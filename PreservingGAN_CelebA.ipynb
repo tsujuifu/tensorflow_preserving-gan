{
 "cells": [
  {
   "cell_type": "code",
   "execution_count": null,
   "metadata": {},
   "outputs": [],
   "source": [
    "# by Ray\n",
    "# CeelbA"
   ]
  },
  {
   "cell_type": "code",
   "execution_count": null,
   "metadata": {},
   "outputs": [],
   "source": [
    "import os\n",
    "\n",
    "os.environ['CUDA_VISIBLE_DEVICES'] = '0'"
   ]
  },
  {
   "cell_type": "code",
   "execution_count": null,
   "metadata": {},
   "outputs": [],
   "source": [
    "%matplotlib inline"
   ]
  },
  {
   "cell_type": "code",
   "execution_count": null,
   "metadata": {},
   "outputs": [],
   "source": [
    "import matplotlib.pyplot as plt\n",
    "import numpy as np\n",
    "import cv2"
   ]
  },
  {
   "cell_type": "code",
   "execution_count": null,
   "metadata": {},
   "outputs": [],
   "source": [
    "dataset_path = 'Dataset/CelebA/'\n",
    "\n",
    "img_path = dataset_path+'11.jpg'\n",
    "img = plt.imread(img_path).astype(np.float32)\n",
    "img /= 255\n",
    "\n",
    "print('---Ref Image---')\n",
    "plt.figure()\n",
    "plt.imshow(img)\n",
    "\n",
    "mask_pix = np.zeros((64, 64), np.float32)\n",
    "# mask_pix[28:35, 13:47] = 1\n",
    "mask_pix[48:60, 20:42] = 1\n",
    "\n",
    "print('---Pixel Mask---')\n",
    "plt.figure()\n",
    "plt.imshow(mask_pix, cmap='gray')\n",
    "\n",
    "mask_lat = cv2.resize(mask_pix, (8, 8))\n",
    "for i in range(8):\n",
    "    for j in range(8):\n",
    "        mask_lat[i][j] = 1 if mask_lat[i][j]==1 else 0\n",
    "\n",
    "print('---Latent Mask---')\n",
    "plt.figure()\n",
    "plt.imshow(mask_lat, cmap='gray', vmin=0, vmax=1)\n",
    "\n",
    "# Preview\n",
    "img_cont = img*mask_pix.reshape((64, 64, 1))\n",
    "\n",
    "print('---Preview---')\n",
    "plt.figure()\n",
    "plt.imshow(img_cont)"
   ]
  },
  {
   "cell_type": "code",
   "execution_count": null,
   "metadata": {},
   "outputs": [],
   "source": [
    "from Src.CelebA.preserving_gan import *\n",
    "\n",
    "ret = produce(plt.imread(img_path), mask_pix, mask_lat)\n",
    "\n",
    "for i in range(36):\n",
    "    plt.figure()\n",
    "    plt.imshow(ret[i])"
   ]
  },
  {
   "cell_type": "code",
   "execution_count": null,
   "metadata": {},
   "outputs": [],
   "source": [
    "canvas = np.zeros((384, 384, 3))\n",
    "\n",
    "for i in range(36):\n",
    "    x = int(i/6)\n",
    "    y = int(i%6)\n",
    "    \n",
    "    canvas[x*64:(x+1)*64, y*64:(y+1)*64, :] = ret[i]\n",
    "\n",
    "plt.figure()\n",
    "plt.imshow(canvas)"
   ]
  },
  {
   "cell_type": "code",
   "execution_count": null,
   "metadata": {},
   "outputs": [],
   "source": [
    "N = 0\n",
    "\n",
    "result_path = 'Result/CelebA_PreservingGAN/%d/'%(N)\n",
    "\n",
    "plt.imsave(result_path+'%d_ref.png'%(N), img)\n",
    "plt.imsave(result_path+'%d_mask.png'%(N), img_cont)\n",
    "\n",
    "for i in range(36):\n",
    "    plt.imsave(result_path+'%d_%d.png'%(N, i), ret[i])\n",
    "\n",
    "plt.imsave(result_path+'%d_all.png'%(N), canvas)"
   ]
  }
 ],
 "metadata": {
  "anaconda-cloud": {},
  "kernelspec": {
   "display_name": "Python 3",
   "language": "python",
   "name": "python3"
  },
  "language_info": {
   "codemirror_mode": {
    "name": "ipython",
    "version": 3
   },
   "file_extension": ".py",
   "mimetype": "text/x-python",
   "name": "python",
   "nbconvert_exporter": "python",
   "pygments_lexer": "ipython3",
   "version": "3.6.4"
  },
  "varInspector": {
   "cols": {
    "lenName": 16,
    "lenType": 16,
    "lenVar": 40
   },
   "kernels_config": {
    "python": {
     "delete_cmd_postfix": "",
     "delete_cmd_prefix": "del ",
     "library": "var_list.py",
     "varRefreshCmd": "print(var_dic_list())"
    },
    "r": {
     "delete_cmd_postfix": ") ",
     "delete_cmd_prefix": "rm(",
     "library": "var_list.r",
     "varRefreshCmd": "cat(var_dic_list()) "
    }
   },
   "position": {
    "height": "145px",
    "left": "1488px",
    "right": "17px",
    "top": "812px",
    "width": "350px"
   },
   "types_to_exclude": [
    "module",
    "function",
    "builtin_function_or_method",
    "instance",
    "_Feature"
   ],
   "window_display": true
  }
 },
 "nbformat": 4,
 "nbformat_minor": 1
}
