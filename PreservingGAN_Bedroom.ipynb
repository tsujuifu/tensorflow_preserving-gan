{
 "cells": [
  {
   "cell_type": "code",
   "execution_count": null,
   "metadata": {},
   "outputs": [],
   "source": [
    "# by Ray\n",
    "# Bedroom"
   ]
  },
  {
   "cell_type": "code",
   "execution_count": null,
   "metadata": {},
   "outputs": [],
   "source": [
    "import os\n",
    "\n",
    "os.environ['CUDA_VISIBLE_DEVICES'] = '1'"
   ]
  },
  {
   "cell_type": "code",
   "execution_count": null,
   "metadata": {},
   "outputs": [],
   "source": [
    "%matplotlib inline"
   ]
  },
  {
   "cell_type": "code",
   "execution_count": null,
   "metadata": {},
   "outputs": [],
   "source": [
    "import matplotlib.pyplot as plt\n",
    "import numpy as np\n",
    "import cv2"
   ]
  },
  {
   "cell_type": "code",
   "execution_count": null,
   "metadata": {},
   "outputs": [],
   "source": [
    "dataset_path = 'Dataset/Bedroom/'\n",
    "\n",
    "img_path = dataset_path+'3.jpg'\n",
    "img = plt.imread(img_path).astype(np.float32)\n",
    "img /= 255\n",
    "\n",
    "print('---Ref Image---')\n",
    "plt.figure()\n",
    "plt.imshow(img)\n",
    "\n",
    "mask_pix = np.zeros((64, 64), np.float32)\n",
    "mask_pix[5:60, 30:64] = 1\n",
    "\n",
    "print('---Pixel Mask---')\n",
    "plt.figure()\n",
    "plt.imshow(mask_pix, cmap='gray')\n",
    "\n",
    "mask_lat = cv2.resize(mask_pix, (8, 8))\n",
    "\n",
    "print('---Latent Mask---')\n",
    "plt.figure()\n",
    "plt.imshow(mask_lat, cmap='gray', vmin=0, vmax=1)\n",
    "\n",
    "# Preview\n",
    "img_cont = img*mask_pix.reshape((64, 64, 1))\n",
    "\n",
    "print('---Preview---')\n",
    "plt.figure()\n",
    "plt.imshow(img_cont)"
   ]
  },
  {
   "cell_type": "code",
   "execution_count": null,
   "metadata": {},
   "outputs": [],
   "source": [
    "import sys\n",
    "\n",
    "sys.path.append(os.path.abspath('Lib/'))"
   ]
  },
  {
   "cell_type": "code",
   "execution_count": null,
   "metadata": {},
   "outputs": [],
   "source": [
    "from Src.Bedroom.preserving_gan import *\n",
    "\n",
    "ret = produce(plt.imread(img_path), mask_pix, mask_lat)\n",
    "\n",
    "for i in range(9):\n",
    "    plt.figure()\n",
    "    plt.imshow(ret[i])"
   ]
  }
 ],
 "metadata": {
  "kernelspec": {
   "display_name": "Python 3",
   "language": "python",
   "name": "python3"
  },
  "language_info": {
   "codemirror_mode": {
    "name": "ipython",
    "version": 3
   },
   "file_extension": ".py",
   "mimetype": "text/x-python",
   "name": "python",
   "nbconvert_exporter": "python",
   "pygments_lexer": "ipython3",
   "version": "3.6.5"
  }
 },
 "nbformat": 4,
 "nbformat_minor": 2
}
